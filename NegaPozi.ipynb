{
 "cells": [
  {
   "cell_type": "code",
   "execution_count": 12,
   "id": "3e797258",
   "metadata": {},
   "outputs": [
    {
     "name": "stderr",
     "output_type": "stream",
     "text": [
      "Device set to use cpu\n"
     ]
    },
    {
     "name": "stdout",
     "output_type": "stream",
     "text": [
      "ポジティブなテキストです！\n",
      "0.9993525147438049\n"
     ]
    }
   ],
   "source": [
    "from transformers import pipeline\n",
    "\n",
    "classifier = pipeline(\"sentiment-analysis\",\n",
    "                      model=\"christian-phu/bert-finetuned-japanese-sentiment\")\n",
    "result = classifier(\"毎日充実していて幸せです\")[0]\n",
    "label = result[\"label\"]\n",
    "score = result[\"score\"]\n",
    "\n",
    "if label == \"positive\":\n",
    "    print(\"ポジティブなテキストです！\")\n",
    "elif label == \"negative\":\n",
    "    print(\"ネガティブなテキストです！\")\n",
    "else:\n",
    "    print(\"ニュートラルなテキストです！\")\n",
    "\n",
    "\n",
    "print(score)\n"
   ]
  },
  {
   "cell_type": "code",
   "execution_count": 2,
   "id": "bdd0c6f0",
   "metadata": {},
   "outputs": [
    {
     "name": "stdout",
     "output_type": "stream",
     "text": [
      "Requirement already satisfied: transformers in c:\\users\\21t343\\anaconda3\\lib\\site-packages (4.53.0)\n",
      "Requirement already satisfied: torch in c:\\users\\21t343\\anaconda3\\lib\\site-packages (2.7.1+cpu)\n",
      "Collecting textblob\n",
      "  Downloading textblob-0.19.0-py3-none-any.whl.metadata (4.4 kB)\n",
      "Requirement already satisfied: filelock in c:\\users\\21t343\\anaconda3\\lib\\site-packages (from transformers) (3.13.1)\n",
      "Requirement already satisfied: huggingface-hub<1.0,>=0.30.0 in c:\\users\\21t343\\anaconda3\\lib\\site-packages (from transformers) (0.33.1)\n",
      "Requirement already satisfied: numpy>=1.17 in c:\\users\\21t343\\anaconda3\\lib\\site-packages (from transformers) (1.26.4)\n",
      "Requirement already satisfied: packaging>=20.0 in c:\\users\\21t343\\anaconda3\\lib\\site-packages (from transformers) (23.2)\n",
      "Requirement already satisfied: pyyaml>=5.1 in c:\\users\\21t343\\anaconda3\\lib\\site-packages (from transformers) (6.0)\n",
      "Requirement already satisfied: regex!=2019.12.17 in c:\\users\\21t343\\anaconda3\\lib\\site-packages (from transformers) (2022.7.9)\n",
      "Requirement already satisfied: requests in c:\\users\\21t343\\anaconda3\\lib\\site-packages (from transformers) (2.31.0)\n",
      "Requirement already satisfied: tokenizers<0.22,>=0.21 in c:\\users\\21t343\\anaconda3\\lib\\site-packages (from transformers) (0.21.2)\n",
      "Requirement already satisfied: safetensors>=0.4.3 in c:\\users\\21t343\\anaconda3\\lib\\site-packages (from transformers) (0.5.3)\n",
      "Requirement already satisfied: tqdm>=4.27 in c:\\users\\21t343\\anaconda3\\lib\\site-packages (from transformers) (4.64.1)\n",
      "Requirement already satisfied: fsspec>=2023.5.0 in c:\\users\\21t343\\anaconda3\\lib\\site-packages (from huggingface-hub<1.0,>=0.30.0->transformers) (2025.5.1)\n",
      "Requirement already satisfied: typing-extensions>=3.7.4.3 in c:\\users\\21t343\\anaconda3\\lib\\site-packages (from huggingface-hub<1.0,>=0.30.0->transformers) (4.13.2)\n",
      "Requirement already satisfied: sympy>=1.13.3 in c:\\users\\21t343\\anaconda3\\lib\\site-packages (from torch) (1.13.3)\n",
      "Requirement already satisfied: networkx in c:\\users\\21t343\\anaconda3\\lib\\site-packages (from torch) (3.4.2)\n",
      "Requirement already satisfied: jinja2 in c:\\users\\21t343\\anaconda3\\lib\\site-packages (from torch) (3.1.2)\n",
      "Collecting nltk>=3.9 (from textblob)\n",
      "  Downloading nltk-3.9.1-py3-none-any.whl.metadata (2.9 kB)\n",
      "Requirement already satisfied: click in c:\\users\\21t343\\anaconda3\\lib\\site-packages (from nltk>=3.9->textblob) (8.0.4)\n",
      "Requirement already satisfied: joblib in c:\\users\\21t343\\anaconda3\\lib\\site-packages (from nltk>=3.9->textblob) (1.1.1)\n",
      "Requirement already satisfied: mpmath<1.4,>=1.1.0 in c:\\users\\21t343\\anaconda3\\lib\\site-packages (from sympy>=1.13.3->torch) (1.2.1)\n",
      "Requirement already satisfied: colorama in c:\\users\\21t343\\anaconda3\\lib\\site-packages (from tqdm>=4.27->transformers) (0.4.6)\n",
      "Requirement already satisfied: MarkupSafe>=2.0 in c:\\users\\21t343\\anaconda3\\lib\\site-packages (from jinja2->torch) (2.1.1)\n",
      "Requirement already satisfied: charset-normalizer<4,>=2 in c:\\users\\21t343\\anaconda3\\lib\\site-packages (from requests->transformers) (2.0.4)\n",
      "Requirement already satisfied: idna<4,>=2.5 in c:\\users\\21t343\\anaconda3\\lib\\site-packages (from requests->transformers) (3.4)\n",
      "Requirement already satisfied: urllib3<3,>=1.21.1 in c:\\users\\21t343\\anaconda3\\lib\\site-packages (from requests->transformers) (1.26.14)\n",
      "Requirement already satisfied: certifi>=2017.4.17 in c:\\users\\21t343\\anaconda3\\lib\\site-packages (from requests->transformers) (2022.12.7)\n",
      "Downloading textblob-0.19.0-py3-none-any.whl (624 kB)\n",
      "   ---------------------------------------- 0.0/624.3 kB ? eta -:--:--\n",
      "   ---------------------------------------- 624.3/624.3 kB 7.7 MB/s eta 0:00:00\n",
      "Downloading nltk-3.9.1-py3-none-any.whl (1.5 MB)\n",
      "   ---------------------------------------- 0.0/1.5 MB ? eta -:--:--\n",
      "   ---------------------------------------- 1.5/1.5 MB 9.9 MB/s eta 0:00:00\n",
      "Installing collected packages: nltk, textblob\n",
      "\n",
      "  Attempting uninstall: nltk\n",
      "\n",
      "    Found existing installation: nltk 3.7\n",
      "\n",
      "   ---------------------------------------- 0/2 [nltk]\n",
      "   ---------------------------------------- 0/2 [nltk]\n",
      "    Uninstalling nltk-3.7:\n",
      "   ---------------------------------------- 0/2 [nltk]\n",
      "      Successfully uninstalled nltk-3.7\n",
      "   ---------------------------------------- 0/2 [nltk]\n",
      "   ---------------------------------------- 0/2 [nltk]\n",
      "   ---------------------------------------- 0/2 [nltk]\n",
      "   ---------------------------------------- 0/2 [nltk]\n",
      "   ---------------------------------------- 0/2 [nltk]\n",
      "   ---------------------------------------- 0/2 [nltk]\n",
      "   ---------------------------------------- 0/2 [nltk]\n",
      "   ---------------------------------------- 0/2 [nltk]\n",
      "   ---------------------------------------- 0/2 [nltk]\n",
      "   ---------------------------------------- 0/2 [nltk]\n",
      "   ---------------------------------------- 0/2 [nltk]\n",
      "   ---------------------------------------- 0/2 [nltk]\n",
      "   ---------------------------------------- 0/2 [nltk]\n",
      "   ---------------------------------------- 0/2 [nltk]\n",
      "   ---------------------------------------- 0/2 [nltk]\n",
      "   ---------------------------------------- 0/2 [nltk]\n",
      "   ---------------------------------------- 0/2 [nltk]\n",
      "   ---------------------------------------- 0/2 [nltk]\n",
      "   ---------------------------------------- 0/2 [nltk]\n",
      "   ---------------------------------------- 0/2 [nltk]\n",
      "   ---------------------------------------- 0/2 [nltk]\n",
      "   -------------------- ------------------- 1/2 [textblob]\n",
      "   ---------------------------------------- 2/2 [textblob]\n",
      "\n",
      "Successfully installed nltk-3.9.1 textblob-0.19.0\n"
     ]
    },
    {
     "name": "stderr",
     "output_type": "stream",
     "text": [
      "WARNING: Ignoring invalid distribution -cikit-learn (c:\\users\\21t343\\anaconda3\\lib\\site-packages)\n",
      "WARNING: Ignoring invalid distribution -ecab-python3 (c:\\users\\21t343\\anaconda3\\lib\\site-packages)\n",
      "WARNING: Ignoring invalid distribution -cikit-learn (c:\\users\\21t343\\anaconda3\\lib\\site-packages)\n",
      "WARNING: Ignoring invalid distribution -ecab-python3 (c:\\users\\21t343\\anaconda3\\lib\\site-packages)\n",
      "WARNING: Ignoring invalid distribution -cikit-learn (c:\\users\\21t343\\anaconda3\\lib\\site-packages)\n",
      "WARNING: Ignoring invalid distribution -ecab-python3 (c:\\users\\21t343\\anaconda3\\lib\\site-packages)\n",
      "ERROR: pip's dependency resolver does not currently take into account all the packages that are installed. This behaviour is the source of the following dependency conflicts.\n",
      "espnet 202301 requires protobuf<=3.20.1, but you have protobuf 4.25.8 which is incompatible.\n",
      "reazonspeech 1.1.0 requires numpy<1.24, but you have numpy 1.26.4 which is incompatible.\n"
     ]
    }
   ],
   "source": [
    "!pip install transformers torch textblob"
   ]
  },
  {
   "cell_type": "code",
   "execution_count": null,
   "id": "c6daf818",
   "metadata": {},
   "outputs": [],
   "source": []
  }
 ],
 "metadata": {
  "kernelspec": {
   "display_name": "base",
   "language": "python",
   "name": "python3"
  },
  "language_info": {
   "codemirror_mode": {
    "name": "ipython",
    "version": 3
   },
   "file_extension": ".py",
   "mimetype": "text/x-python",
   "name": "python",
   "nbconvert_exporter": "python",
   "pygments_lexer": "ipython3",
   "version": "3.10.9"
  }
 },
 "nbformat": 4,
 "nbformat_minor": 5
}
